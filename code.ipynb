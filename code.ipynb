{
 "cells": [
  {
   "cell_type": "code",
   "execution_count": 24,
   "id": "f10ae59c",
   "metadata": {},
   "outputs": [
    {
     "name": "stdout",
     "output_type": "stream",
     "text": [
      "(2000, 11)\n"
     ]
    }
   ],
   "source": [
    "import pandas as pd\n",
    "df = pd.read_csv(r\"C:\\AI workforce\\TCS\\Retail_Transactions_2000.csv\")\n",
    "print(df.shape)        \n",
    "    \n"
   ]
  },
  {
   "cell_type": "code",
   "execution_count": 25,
   "id": "385f4215",
   "metadata": {},
   "outputs": [
    {
     "name": "stdout",
     "output_type": "stream",
     "text": [
      "<class 'pandas.core.frame.DataFrame'>\n",
      "RangeIndex: 2000 entries, 0 to 1999\n",
      "Data columns (total 11 columns):\n",
      " #   Column           Non-Null Count  Dtype \n",
      "---  ------           --------------  ----- \n",
      " 0   TransactionID    2000 non-null   object\n",
      " 1   CustomerID       2000 non-null   object\n",
      " 2   Gender           2000 non-null   object\n",
      " 3   Age              2000 non-null   int64 \n",
      " 4   City             2000 non-null   object\n",
      " 5   ProductCategory  2000 non-null   object\n",
      " 6   Quantity         2000 non-null   int64 \n",
      " 7   Price            2000 non-null   int64 \n",
      " 8   PurchaseDate     2000 non-null   object\n",
      " 9   PaymentMode      2000 non-null   object\n",
      " 10  TotalAmount      2000 non-null   int64 \n",
      "dtypes: int64(4), object(7)\n",
      "memory usage: 172.0+ KB\n"
     ]
    }
   ],
   "source": [
    "df.info()    \n"
   ]
  },
  {
   "cell_type": "code",
   "execution_count": 27,
   "id": "5c270d3f",
   "metadata": {},
   "outputs": [
    {
     "data": {
      "text/html": [
       "<div>\n",
       "<style scoped>\n",
       "    .dataframe tbody tr th:only-of-type {\n",
       "        vertical-align: middle;\n",
       "    }\n",
       "\n",
       "    .dataframe tbody tr th {\n",
       "        vertical-align: top;\n",
       "    }\n",
       "\n",
       "    .dataframe thead th {\n",
       "        text-align: right;\n",
       "    }\n",
       "</style>\n",
       "<table border=\"1\" class=\"dataframe\">\n",
       "  <thead>\n",
       "    <tr style=\"text-align: right;\">\n",
       "      <th></th>\n",
       "      <th>TransactionID</th>\n",
       "      <th>CustomerID</th>\n",
       "      <th>Gender</th>\n",
       "      <th>Age</th>\n",
       "      <th>City</th>\n",
       "      <th>ProductCategory</th>\n",
       "      <th>Quantity</th>\n",
       "      <th>Price</th>\n",
       "      <th>PurchaseDate</th>\n",
       "      <th>PaymentMode</th>\n",
       "      <th>TotalAmount</th>\n",
       "    </tr>\n",
       "  </thead>\n",
       "  <tbody>\n",
       "    <tr>\n",
       "      <th>0</th>\n",
       "      <td>T00001</td>\n",
       "      <td>C2824</td>\n",
       "      <td>Female</td>\n",
       "      <td>33</td>\n",
       "      <td>Bengaluru</td>\n",
       "      <td>Fashion</td>\n",
       "      <td>3</td>\n",
       "      <td>4479</td>\n",
       "      <td>2023-03-15</td>\n",
       "      <td>Cash</td>\n",
       "      <td>13437</td>\n",
       "    </tr>\n",
       "    <tr>\n",
       "      <th>1</th>\n",
       "      <td>T00002</td>\n",
       "      <td>C1409</td>\n",
       "      <td>Other</td>\n",
       "      <td>20</td>\n",
       "      <td>Pune</td>\n",
       "      <td>Books</td>\n",
       "      <td>5</td>\n",
       "      <td>1051</td>\n",
       "      <td>2023-01-22</td>\n",
       "      <td>Card</td>\n",
       "      <td>5255</td>\n",
       "    </tr>\n",
       "    <tr>\n",
       "      <th>2</th>\n",
       "      <td>T00003</td>\n",
       "      <td>C5506</td>\n",
       "      <td>Other</td>\n",
       "      <td>47</td>\n",
       "      <td>Pune</td>\n",
       "      <td>Furniture</td>\n",
       "      <td>1</td>\n",
       "      <td>111</td>\n",
       "      <td>2023-04-18</td>\n",
       "      <td>Wallet</td>\n",
       "      <td>111</td>\n",
       "    </tr>\n",
       "    <tr>\n",
       "      <th>3</th>\n",
       "      <td>T00004</td>\n",
       "      <td>C5012</td>\n",
       "      <td>Other</td>\n",
       "      <td>21</td>\n",
       "      <td>Hyderabad</td>\n",
       "      <td>Groceries</td>\n",
       "      <td>5</td>\n",
       "      <td>2946</td>\n",
       "      <td>2023-08-09</td>\n",
       "      <td>Cash</td>\n",
       "      <td>14730</td>\n",
       "    </tr>\n",
       "    <tr>\n",
       "      <th>4</th>\n",
       "      <td>T00005</td>\n",
       "      <td>C4657</td>\n",
       "      <td>Female</td>\n",
       "      <td>41</td>\n",
       "      <td>Chennai</td>\n",
       "      <td>Sports</td>\n",
       "      <td>1</td>\n",
       "      <td>3123</td>\n",
       "      <td>2023-09-23</td>\n",
       "      <td>Wallet</td>\n",
       "      <td>3123</td>\n",
       "    </tr>\n",
       "  </tbody>\n",
       "</table>\n",
       "</div>"
      ],
      "text/plain": [
       "  TransactionID CustomerID  Gender  Age       City ProductCategory  Quantity  \\\n",
       "0        T00001      C2824  Female   33  Bengaluru         Fashion         3   \n",
       "1        T00002      C1409   Other   20       Pune           Books         5   \n",
       "2        T00003      C5506   Other   47       Pune       Furniture         1   \n",
       "3        T00004      C5012   Other   21  Hyderabad       Groceries         5   \n",
       "4        T00005      C4657  Female   41    Chennai          Sports         1   \n",
       "\n",
       "   Price PurchaseDate PaymentMode  TotalAmount  \n",
       "0   4479   2023-03-15        Cash        13437  \n",
       "1   1051   2023-01-22        Card         5255  \n",
       "2    111   2023-04-18      Wallet          111  \n",
       "3   2946   2023-08-09        Cash        14730  \n",
       "4   3123   2023-09-23      Wallet         3123  "
      ]
     },
     "execution_count": 27,
     "metadata": {},
     "output_type": "execute_result"
    }
   ],
   "source": [
    "df.head()  "
   ]
  },
  {
   "cell_type": "code",
   "execution_count": 9,
   "id": "f1ee4dec",
   "metadata": {},
   "outputs": [
    {
     "data": {
      "text/plain": [
       "TransactionID      0\n",
       "CustomerID         0\n",
       "Gender             0\n",
       "Age                0\n",
       "City               0\n",
       "ProductCategory    0\n",
       "Quantity           0\n",
       "Price              0\n",
       "PurchaseDate       0\n",
       "PaymentMode        0\n",
       "TotalAmount        0\n",
       "dtype: int64"
      ]
     },
     "execution_count": 9,
     "metadata": {},
     "output_type": "execute_result"
    }
   ],
   "source": [
    "df.isnull().sum()\n"
   ]
  },
  {
   "cell_type": "code",
   "execution_count": 11,
   "id": "95de16c0",
   "metadata": {},
   "outputs": [
    {
     "name": "stdout",
     "output_type": "stream",
     "text": [
      "0\n"
     ]
    }
   ],
   "source": [
    "duplicates = df.duplicated().sum()\n",
    "print(f\"{duplicates}\")"
   ]
  },
  {
   "cell_type": "code",
   "execution_count": 12,
   "id": "b6d006cd",
   "metadata": {},
   "outputs": [
    {
     "name": "stdout",
     "output_type": "stream",
     "text": [
      "['Female' 'Other' 'Male']\n",
      "['Bengaluru' 'Pune' 'Hyderabad' 'Chennai' 'Delhi' 'Jaipur' 'Lucknow'\n",
      " 'Ahmedabad' 'Kolkata' 'Mumbai']\n",
      "['Cash' 'Card' 'Wallet' 'UPI']\n"
     ]
    }
   ],
   "source": [
    "print(df['Gender'].unique())\n",
    "print(df['City'].unique()[:10])       \n",
    "print(df['PaymentMode'].unique())\n"
   ]
  },
  {
   "cell_type": "code",
   "execution_count": 28,
   "id": "ca24ed05",
   "metadata": {},
   "outputs": [
    {
     "name": "stdout",
     "output_type": "stream",
     "text": [
      "Missing Age: 0\n"
     ]
    }
   ],
   "source": [
    "#PART A 2\n",
    "print(\"Missing Age:\", df['Age'].isnull().sum())   #no missing values, so i did'nt use median"
   ]
  },
  {
   "cell_type": "code",
   "execution_count": 33,
   "id": "0acb0ae7",
   "metadata": {},
   "outputs": [
    {
     "name": "stdout",
     "output_type": "stream",
     "text": [
      "Missing City: 0\n"
     ]
    }
   ],
   "source": [
    "\n",
    "print(\"Missing City:\", df['City'].isnull().sum())\n",
    "\n"
   ]
  },
  {
   "cell_type": "code",
   "execution_count": 35,
   "id": "a6f6f5f6",
   "metadata": {},
   "outputs": [],
   "source": [
    "df.dropna(subset=['TransactionID', 'ProductCategory'], inplace=True)"
   ]
  },
  {
   "cell_type": "markdown",
   "id": "2409d367",
   "metadata": {},
   "source": [
    "DATA CLEANING:"
   ]
  },
  {
   "cell_type": "markdown",
   "id": "5a0283b5",
   "metadata": {},
   "source": [
    "Remove Duplicate Transactions"
   ]
  },
  {
   "cell_type": "code",
   "execution_count": 36,
   "id": "522ac761",
   "metadata": {},
   "outputs": [
    {
     "name": "stdout",
     "output_type": "stream",
     "text": [
      "Duplicate rows: 0\n"
     ]
    },
    {
     "data": {
      "text/plain": [
       "(2000, 11)"
      ]
     },
     "execution_count": 36,
     "metadata": {},
     "output_type": "execute_result"
    }
   ],
   "source": [
    "print(\"Duplicate rows:\", df.duplicated().sum())\n",
    "df.drop_duplicates(inplace=True)\n",
    "df.shape"
   ]
  },
  {
   "cell_type": "markdown",
   "id": "5003edd1",
   "metadata": {},
   "source": [
    " Cleaning Gender\n"
   ]
  },
  {
   "cell_type": "code",
   "execution_count": 38,
   "id": "b23e68ae",
   "metadata": {},
   "outputs": [
    {
     "name": "stderr",
     "output_type": "stream",
     "text": [
      "C:\\Users\\HP\\AppData\\Local\\Temp\\ipykernel_13592\\1633333599.py:2: FutureWarning: A value is trying to be set on a copy of a DataFrame or Series through chained assignment using an inplace method.\n",
      "The behavior will change in pandas 3.0. This inplace method will never work because the intermediate object on which we are setting values always behaves as a copy.\n",
      "\n",
      "For example, when doing 'df[col].method(value, inplace=True)', try using 'df.method({col: value}, inplace=True)' or df[col] = df[col].method(value) instead, to perform the operation inplace on the original object.\n",
      "\n",
      "\n",
      "  df['Gender'].replace({\n"
     ]
    },
    {
     "data": {
      "text/html": [
       "<div>\n",
       "<style scoped>\n",
       "    .dataframe tbody tr th:only-of-type {\n",
       "        vertical-align: middle;\n",
       "    }\n",
       "\n",
       "    .dataframe tbody tr th {\n",
       "        vertical-align: top;\n",
       "    }\n",
       "\n",
       "    .dataframe thead th {\n",
       "        text-align: right;\n",
       "    }\n",
       "</style>\n",
       "<table border=\"1\" class=\"dataframe\">\n",
       "  <thead>\n",
       "    <tr style=\"text-align: right;\">\n",
       "      <th></th>\n",
       "      <th>TransactionID</th>\n",
       "      <th>CustomerID</th>\n",
       "      <th>Gender</th>\n",
       "      <th>Age</th>\n",
       "      <th>City</th>\n",
       "      <th>ProductCategory</th>\n",
       "      <th>Quantity</th>\n",
       "      <th>Price</th>\n",
       "      <th>PurchaseDate</th>\n",
       "      <th>PaymentMode</th>\n",
       "      <th>TotalAmount</th>\n",
       "    </tr>\n",
       "  </thead>\n",
       "  <tbody>\n",
       "    <tr>\n",
       "      <th>0</th>\n",
       "      <td>T00001</td>\n",
       "      <td>C2824</td>\n",
       "      <td>Female</td>\n",
       "      <td>33</td>\n",
       "      <td>Bengaluru</td>\n",
       "      <td>Fashion</td>\n",
       "      <td>3</td>\n",
       "      <td>4479</td>\n",
       "      <td>2023-03-15</td>\n",
       "      <td>Cash</td>\n",
       "      <td>13437</td>\n",
       "    </tr>\n",
       "    <tr>\n",
       "      <th>1</th>\n",
       "      <td>T00002</td>\n",
       "      <td>C1409</td>\n",
       "      <td>Other</td>\n",
       "      <td>20</td>\n",
       "      <td>Pune</td>\n",
       "      <td>Books</td>\n",
       "      <td>5</td>\n",
       "      <td>1051</td>\n",
       "      <td>2023-01-22</td>\n",
       "      <td>Card</td>\n",
       "      <td>5255</td>\n",
       "    </tr>\n",
       "    <tr>\n",
       "      <th>2</th>\n",
       "      <td>T00003</td>\n",
       "      <td>C5506</td>\n",
       "      <td>Other</td>\n",
       "      <td>47</td>\n",
       "      <td>Pune</td>\n",
       "      <td>Furniture</td>\n",
       "      <td>1</td>\n",
       "      <td>111</td>\n",
       "      <td>2023-04-18</td>\n",
       "      <td>Wallet</td>\n",
       "      <td>111</td>\n",
       "    </tr>\n",
       "    <tr>\n",
       "      <th>3</th>\n",
       "      <td>T00004</td>\n",
       "      <td>C5012</td>\n",
       "      <td>Other</td>\n",
       "      <td>21</td>\n",
       "      <td>Hyderabad</td>\n",
       "      <td>Groceries</td>\n",
       "      <td>5</td>\n",
       "      <td>2946</td>\n",
       "      <td>2023-08-09</td>\n",
       "      <td>Cash</td>\n",
       "      <td>14730</td>\n",
       "    </tr>\n",
       "    <tr>\n",
       "      <th>4</th>\n",
       "      <td>T00005</td>\n",
       "      <td>C4657</td>\n",
       "      <td>Female</td>\n",
       "      <td>41</td>\n",
       "      <td>Chennai</td>\n",
       "      <td>Sports</td>\n",
       "      <td>1</td>\n",
       "      <td>3123</td>\n",
       "      <td>2023-09-23</td>\n",
       "      <td>Wallet</td>\n",
       "      <td>3123</td>\n",
       "    </tr>\n",
       "    <tr>\n",
       "      <th>...</th>\n",
       "      <td>...</td>\n",
       "      <td>...</td>\n",
       "      <td>...</td>\n",
       "      <td>...</td>\n",
       "      <td>...</td>\n",
       "      <td>...</td>\n",
       "      <td>...</td>\n",
       "      <td>...</td>\n",
       "      <td>...</td>\n",
       "      <td>...</td>\n",
       "      <td>...</td>\n",
       "    </tr>\n",
       "    <tr>\n",
       "      <th>1995</th>\n",
       "      <td>T01996</td>\n",
       "      <td>C1151</td>\n",
       "      <td>Male</td>\n",
       "      <td>44</td>\n",
       "      <td>Jaipur</td>\n",
       "      <td>Fashion</td>\n",
       "      <td>2</td>\n",
       "      <td>2436</td>\n",
       "      <td>2023-01-15</td>\n",
       "      <td>Wallet</td>\n",
       "      <td>4872</td>\n",
       "    </tr>\n",
       "    <tr>\n",
       "      <th>1996</th>\n",
       "      <td>T01997</td>\n",
       "      <td>C5888</td>\n",
       "      <td>Male</td>\n",
       "      <td>53</td>\n",
       "      <td>Ahmedabad</td>\n",
       "      <td>Beauty</td>\n",
       "      <td>3</td>\n",
       "      <td>2744</td>\n",
       "      <td>2023-01-14</td>\n",
       "      <td>Wallet</td>\n",
       "      <td>8232</td>\n",
       "    </tr>\n",
       "    <tr>\n",
       "      <th>1997</th>\n",
       "      <td>T01998</td>\n",
       "      <td>C2758</td>\n",
       "      <td>Male</td>\n",
       "      <td>45</td>\n",
       "      <td>Lucknow</td>\n",
       "      <td>Electronics</td>\n",
       "      <td>1</td>\n",
       "      <td>3246</td>\n",
       "      <td>2023-06-19</td>\n",
       "      <td>Wallet</td>\n",
       "      <td>3246</td>\n",
       "    </tr>\n",
       "    <tr>\n",
       "      <th>1998</th>\n",
       "      <td>T01999</td>\n",
       "      <td>C6489</td>\n",
       "      <td>Male</td>\n",
       "      <td>43</td>\n",
       "      <td>Bengaluru</td>\n",
       "      <td>Sports</td>\n",
       "      <td>2</td>\n",
       "      <td>2709</td>\n",
       "      <td>2023-01-15</td>\n",
       "      <td>Wallet</td>\n",
       "      <td>5418</td>\n",
       "    </tr>\n",
       "    <tr>\n",
       "      <th>1999</th>\n",
       "      <td>T02000</td>\n",
       "      <td>C5662</td>\n",
       "      <td>Male</td>\n",
       "      <td>33</td>\n",
       "      <td>Hyderabad</td>\n",
       "      <td>Beauty</td>\n",
       "      <td>2</td>\n",
       "      <td>1561</td>\n",
       "      <td>2023-08-29</td>\n",
       "      <td>UPI</td>\n",
       "      <td>3122</td>\n",
       "    </tr>\n",
       "  </tbody>\n",
       "</table>\n",
       "<p>2000 rows × 11 columns</p>\n",
       "</div>"
      ],
      "text/plain": [
       "     TransactionID CustomerID  Gender  Age       City ProductCategory  \\\n",
       "0           T00001      C2824  Female   33  Bengaluru         Fashion   \n",
       "1           T00002      C1409   Other   20       Pune           Books   \n",
       "2           T00003      C5506   Other   47       Pune       Furniture   \n",
       "3           T00004      C5012   Other   21  Hyderabad       Groceries   \n",
       "4           T00005      C4657  Female   41    Chennai          Sports   \n",
       "...            ...        ...     ...  ...        ...             ...   \n",
       "1995        T01996      C1151    Male   44     Jaipur         Fashion   \n",
       "1996        T01997      C5888    Male   53  Ahmedabad          Beauty   \n",
       "1997        T01998      C2758    Male   45    Lucknow     Electronics   \n",
       "1998        T01999      C6489    Male   43  Bengaluru          Sports   \n",
       "1999        T02000      C5662    Male   33  Hyderabad          Beauty   \n",
       "\n",
       "      Quantity  Price PurchaseDate PaymentMode  TotalAmount  \n",
       "0            3   4479   2023-03-15        Cash        13437  \n",
       "1            5   1051   2023-01-22        Card         5255  \n",
       "2            1    111   2023-04-18      Wallet          111  \n",
       "3            5   2946   2023-08-09        Cash        14730  \n",
       "4            1   3123   2023-09-23      Wallet         3123  \n",
       "...        ...    ...          ...         ...          ...  \n",
       "1995         2   2436   2023-01-15      Wallet         4872  \n",
       "1996         3   2744   2023-01-14      Wallet         8232  \n",
       "1997         1   3246   2023-06-19      Wallet         3246  \n",
       "1998         2   2709   2023-01-15      Wallet         5418  \n",
       "1999         2   1561   2023-08-29         UPI         3122  \n",
       "\n",
       "[2000 rows x 11 columns]"
      ]
     },
     "execution_count": 38,
     "metadata": {},
     "output_type": "execute_result"
    }
   ],
   "source": [
    "df['Gender'] = df['Gender'].str.strip().str.title()\n",
    "df['Gender'].replace({\n",
    "    'M': 'Male',\n",
    "    'F': 'Female',\n",
    "    'O': 'Other'\n",
    "}, inplace=True)\n",
    "df"
   ]
  },
  {
   "cell_type": "markdown",
   "id": "ee07414b",
   "metadata": {},
   "source": [
    "Cleaning City"
   ]
  },
  {
   "cell_type": "code",
   "execution_count": null,
   "id": "f4af2eff",
   "metadata": {},
   "outputs": [],
   "source": [
    "df['City'] = df['City'].str.strip().str.title()"
   ]
  },
  {
   "cell_type": "markdown",
   "id": "2c53d24d",
   "metadata": {},
   "source": [
    "Cleaning ProductCategory\n"
   ]
  },
  {
   "cell_type": "code",
   "execution_count": 39,
   "id": "eebac62d",
   "metadata": {},
   "outputs": [],
   "source": [
    "df['ProductCategory'] = df['ProductCategory'].str.strip().str.title()\n"
   ]
  },
  {
   "cell_type": "markdown",
   "id": "9f457234",
   "metadata": {},
   "source": [
    "Cleaning PaymentMode\n"
   ]
  },
  {
   "cell_type": "code",
   "execution_count": 40,
   "id": "1073f8b7",
   "metadata": {},
   "outputs": [],
   "source": [
    "df['PaymentMode'] = df['PaymentMode'].str.strip().str.upper()"
   ]
  },
  {
   "cell_type": "markdown",
   "id": "404e7e55",
   "metadata": {},
   "source": [
    "Correcting values"
   ]
  },
  {
   "cell_type": "code",
   "execution_count": 41,
   "id": "5d017922",
   "metadata": {},
   "outputs": [],
   "source": [
    "df = df[(df['Quantity'] > 0) & (df['Price'] > 0)]\n"
   ]
  },
  {
   "cell_type": "markdown",
   "id": "748e8547",
   "metadata": {},
   "source": [
    "FEATURE EGINEERING\n",
    "Derive TotalAmount if missing\n"
   ]
  },
  {
   "cell_type": "code",
   "execution_count": null,
   "id": "3d931d14",
   "metadata": {},
   "outputs": [],
   "source": [
    "df['TotalAmount'] = df['Quantity'] * df['Price']\n"
   ]
  },
  {
   "cell_type": "markdown",
   "id": "616a26f4",
   "metadata": {},
   "source": [
    "cleaning date columns"
   ]
  },
  {
   "cell_type": "code",
   "execution_count": 43,
   "id": "7c2eff7e",
   "metadata": {},
   "outputs": [],
   "source": [
    "df['PurchaseDate'] = pd.to_datetime(df['PurchaseDate'], errors='coerce')\n"
   ]
  },
  {
   "cell_type": "markdown",
   "id": "8f63a6aa",
   "metadata": {},
   "source": [
    "Create AgeGroup column\n"
   ]
  },
  {
   "cell_type": "code",
   "execution_count": 44,
   "id": "60248f3f",
   "metadata": {},
   "outputs": [],
   "source": [
    "bins = [0, 17, 25, 40, 60, 100]  \n",
    "labels = ['<18', '18-25', '26-40', '41-60', '60+']\n",
    "\n",
    "df['AgeGroup'] = pd.cut(df['Age'], bins=bins, labels=labels, right=True)\n"
   ]
  },
  {
   "cell_type": "markdown",
   "id": "29cf41c6",
   "metadata": {},
   "source": [
    " Encoding & Transformation\n",
    " Encoding categorical values:\n",
    "\n"
   ]
  },
  {
   "cell_type": "code",
   "execution_count": 49,
   "id": "1b7aa67b",
   "metadata": {},
   "outputs": [
    {
     "name": "stdout",
     "output_type": "stream",
     "text": [
      "   Gender  Gender_Enc\n",
      "0  Female           0\n",
      "1   Other           2\n",
      "2   Other           2\n",
      "3   Other           2\n",
      "4  Female           0\n"
     ]
    }
   ],
   "source": [
    "from sklearn.preprocessing import LabelEncoder\n",
    "\n",
    "le = LabelEncoder()\n",
    "df['Gender_Enc'] = le.fit_transform(df['Gender'])\n",
    "print(df[['Gender', 'Gender_Enc']].head())\n"
   ]
  },
  {
   "cell_type": "code",
   "execution_count": 50,
   "id": "7e59a6e2",
   "metadata": {},
   "outputs": [],
   "source": [
    "df = pd.get_dummies(df, \n",
    "                    columns=['City', 'ProductCategory', 'PaymentMode'], \n",
    "                    drop_first=True)\n",
    "\n"
   ]
  },
  {
   "cell_type": "code",
   "execution_count": 52,
   "id": "59dd2e73",
   "metadata": {},
   "outputs": [],
   "source": [
    "from sklearn.preprocessing import StandardScaler\n",
    "\n",
    "scaler = StandardScaler()\n",
    "df[['Age', 'Price', 'TotalAmount']] = scaler.fit_transform(df[['Age', 'Price', 'TotalAmount']])\n",
    "\n"
   ]
  },
  {
   "cell_type": "markdown",
   "id": "0ee1585c",
   "metadata": {},
   "source": [
    "Final Verification"
   ]
  },
  {
   "cell_type": "code",
   "execution_count": 53,
   "id": "d7d7f3f7",
   "metadata": {},
   "outputs": [
    {
     "name": "stdout",
     "output_type": "stream",
     "text": [
      "TransactionID                  0\n",
      "CustomerID                     0\n",
      "Gender                         0\n",
      "Age                            0\n",
      "Quantity                       0\n",
      "Price                          0\n",
      "PurchaseDate                   0\n",
      "TotalAmount                    0\n",
      "AgeGroup                       0\n",
      "Gender_Enc                     0\n",
      "City_Bengaluru                 0\n",
      "City_Chennai                   0\n",
      "City_Delhi                     0\n",
      "City_Hyderabad                 0\n",
      "City_Jaipur                    0\n",
      "City_Kolkata                   0\n",
      "City_Lucknow                   0\n",
      "City_Mumbai                    0\n",
      "City_Pune                      0\n",
      "ProductCategory_Books          0\n",
      "ProductCategory_Electronics    0\n",
      "ProductCategory_Fashion        0\n",
      "ProductCategory_Furniture      0\n",
      "ProductCategory_Groceries      0\n",
      "ProductCategory_Sports         0\n",
      "PaymentMode_CASH               0\n",
      "PaymentMode_UPI                0\n",
      "PaymentMode_WALLET             0\n",
      "dtype: int64\n",
      "0\n",
      "1004\n",
      "0\n"
     ]
    }
   ],
   "source": [
    "print(df.isnull().sum())\n",
    "print((df['Quantity'] <= 0).sum())  \n",
    "print((df['Price'] <= 0).sum())   \n",
    "print(df.duplicated().sum())\n",
    "df.to_csv(\"Retail_Cleaned.csv\")\n"
   ]
  },
  {
   "cell_type": "markdown",
   "id": "3bfbc10e",
   "metadata": {},
   "source": [
    "PART B"
   ]
  },
  {
   "cell_type": "code",
   "execution_count": 54,
   "id": "56ada07e",
   "metadata": {},
   "outputs": [
    {
     "data": {
      "image/png": "[encoded data removed]",
      "text/plain": [
       "<Figure size 800x500 with 1 Axes>"
      ]
     },
     "metadata": {},
     "output_type": "display_data"
    }
   ],
   "source": [
    "import matplotlib.pyplot as plt\n",
    "import seaborn as sns\n",
    "\n",
    "plt.figure(figsize=(8,5))\n",
    "sns.histplot(df['Age'], bins=20, kde=True)  # kde=True draws smooth normal-like curve\n",
    "plt.title(\"Age Distribution of Customers\")\n",
    "plt.xlabel(\"Age\")\n",
    "plt.ylabel(\"Count\")\n",
    "plt.show()\n"
   ]
  },
  {
   "cell_type": "code",
   "execution_count": 57,
   "id": "78508054",
   "metadata": {},
   "outputs": [
    {
     "data": {
      "image/png": "[encoded data removed]",
      "text/plain": [
       "<Figure size 800x500 with 1 Axes>"
      ]
     },
     "metadata": {},
     "output_type": "display_data"
    }
   ],
   "source": [
    "plt.figure(figsize=(8,5))\n",
    "sns.boxplot(x=df['Price'])\n",
    "plt.title(\"Price Distribution (Boxplot)\")\n",
    "plt.show()\n",
    "\n",
    "\n"
   ]
  },
  {
   "cell_type": "code",
   "execution_count": 56,
   "id": "44202b0d",
   "metadata": {},
   "outputs": [
    {
     "data": {
      "image/png": "[encoded data removed]",
      "text/plain": [
       "<Figure size 800x500 with 1 Axes>"
      ]
     },
     "metadata": {},
     "output_type": "display_data"
    }
   ],
   "source": [
    "plt.figure(figsize=(8,5))\n",
    "sns.boxplot(x=df['TotalAmount'])\n",
    "plt.title(\"TotalAmount Distribution (Boxplot)\")\n",
    "plt.show()"
   ]
  },
  {
   "cell_type": "code",
   "execution_count": 58,
   "id": "fbe7260e",
   "metadata": {},
   "outputs": [
    {
     "data": {
      "image/png": "[encoded data removed]",
      "text/plain": [
       "<Figure size 800x500 with 1 Axes>"
      ]
     },
     "metadata": {},
     "output_type": "display_data"
    }
   ],
   "source": [
    "plt.figure(figsize=(8,5))\n",
    "sns.histplot(df['Quantity'], bins=20, kde=False)\n",
    "plt.title(\"Quantity Distribution\")\n",
    "plt.xlabel(\"Units Purchased\")\n",
    "plt.ylabel(\"Count\")\n",
    "plt.show()\n"
   ]
  },
  {
   "cell_type": "code",
   "execution_count": null,
   "id": "11abc249",
   "metadata": {},
   "outputs": [],
   "source": [
    "plt.figure(figsize=(10,6))\n",
    "sns.heatmap(df.isnull(), cbar=False, cmap='viridis')\n",
    "plt.title(\"Missing Values Heatmap\")\n",
    "plt.show()\n"
   ]
  }
 ],
 "metadata": {
  "kernelspec": {
   "display_name": "Python 3",
   "language": "python",
   "name": "python3"
  },
  "language_info": {
   "codemirror_mode": {
    "name": "ipython",
    "version": 3
   },
   "file_extension": ".py",
   "mimetype": "text/x-python",
   "name": "python",
   "nbconvert_exporter": "python",
   "pygments_lexer": "ipython3",
   "version": "3.12.0"
  }
 },
 "nbformat": 4,
 "nbformat_minor": 5
}
